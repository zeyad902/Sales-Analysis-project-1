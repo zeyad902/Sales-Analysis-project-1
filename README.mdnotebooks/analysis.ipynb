# Sales Analysis Project 📊

## Overview
This project analyzes sales data using **Python** for data cleaning, exploratory data analysis (EDA), and visualization.  
An interactive **Power BI dashboard** was also created to provide business insights.

## Tools & Technologies
- Python (Pandas, Matplotlib, Seaborn)
- Jupyter Notebook
- Power BI

## Project Structure
- `notebooks/` → Python Jupyter notebooks for data cleaning & EDA
- `powerbi/` → Power BI dashboard file

## Key Insights
-📈 California is the top-performing state and should be the main focus for business expansion.

-📊 The Wholesale channel generates the highest revenue among all channels.

-🔎 Product 26 is the best-selling product, contributing $122M in revenue.
